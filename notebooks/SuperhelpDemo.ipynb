{
 "cells": [
  {
   "cell_type": "code",
   "execution_count": 1,
   "metadata": {},
   "outputs": [
    {
     "name": "stdout",
     "output_type": "stream",
     "text": [
      "Requirement already satisfied: superhelp in /home/g/projects/superhelp (0.0.5)\n",
      "Requirement already satisfied: astpath==0.9.0 in /home/g/.local/lib/python3.7/site-packages (from superhelp) (0.9.0)\n",
      "Requirement already satisfied: cssselect==1.1.0 in /home/g/.local/lib/python3.7/site-packages (from superhelp) (1.1.0)\n",
      "Requirement already satisfied: lxml==4.5.0 in /home/g/.local/lib/python3.7/site-packages (from superhelp) (4.5.0)\n",
      "Requirement already satisfied: Markdown==3.2.1 in /home/g/.local/lib/python3.7/site-packages (from superhelp) (3.2.1)\n",
      "Requirement already satisfied: mdv==1.7.4 in /home/g/.local/lib/python3.7/site-packages (from superhelp) (1.7.4)\n",
      "Requirement already satisfied: Pygments==2.6.1 in /home/g/.local/lib/python3.7/site-packages (from superhelp) (2.6.1)\n",
      "Requirement already satisfied: PyYAML==5.3.1 in /home/g/.local/lib/python3.7/site-packages (from superhelp) (5.3.1)\n",
      "Requirement already satisfied: tabulate==0.8.7 in /home/g/.local/lib/python3.7/site-packages (from superhelp) (0.8.7)\n",
      "Requirement already satisfied: setuptools>=36 in /home/g/.local/lib/python3.7/site-packages (from Markdown==3.2.1->superhelp) (46.1.3)\n",
      "Note: you may need to restart the kernel to use updated packages.\n"
     ]
    }
   ],
   "source": [
    "%pip install superhelp"
   ]
  },
  {
   "cell_type": "code",
   "execution_count": 4,
   "metadata": {},
   "outputs": [],
   "source": [
    "from IPython.core.display import display, HTML"
   ]
  },
  {
   "cell_type": "code",
   "execution_count": 2,
   "metadata": {},
   "outputs": [],
   "source": [
    "from superhelp.helper import superhelp"
   ]
  },
  {
   "cell_type": "code",
   "execution_count": 3,
   "metadata": {},
   "outputs": [
    {
     "name": "stdout",
     "output_type": "stream",
     "text": [
      "Help on function superhelp in module superhelp.helper:\n",
      "\n",
      "superhelp(snippet=None, *, file_path=None, displayer='html', message_level='Extra', in_notebook=False)\n",
      "    Provide advice about the snippet supplied\n",
      "    \n",
      "    :param str snippet: (optional) snippet of valid Python code to provide\n",
      "     advice on. If None will try the file_path and if that is None will use the\n",
      "     default snippet\n",
      "    :param str file_path: (optional) file path containing snippet\n",
      "    :param str displayer: displayer to use e.g. 'html' or 'cli'. Defaults to\n",
      "     'html'.\n",
      "    :param str message_level: e.g. 'Brief', 'Main', 'Extra'\n",
      "    :param bool in_notebook: if True might change way display happens e.g. HTML\n",
      "     not sent to browser but returned for display by notebook itself\n",
      "\n"
     ]
    }
   ],
   "source": [
    "help(superhelp)"
   ]
  },
  {
   "cell_type": "code",
   "execution_count": 7,
   "metadata": {},
   "outputs": [],
   "source": [
    "from functools import partial\n",
    "superhelp = partial(superhelp, in_notebook=True)\n",
    "def show(html):\n",
    "    display(HTML(html))"
   ]
  },
  {
   "cell_type": "code",
   "execution_count": 8,
   "metadata": {},
   "outputs": [
    {
     "ename": "TypeError",
     "evalue": "display_messages() got an unexpected keyword argument 'in_notebook'",
     "output_type": "error",
     "traceback": [
      "\u001b[0;31m---------------------------------------------------------------------------\u001b[0m",
      "\u001b[0;31mTypeError\u001b[0m                                 Traceback (most recent call last)",
      "\u001b[0;32m<ipython-input-8-56dbd7c4c130>\u001b[0m in \u001b[0;36m<module>\u001b[0;34m\u001b[0m\n\u001b[0;32m----> 1\u001b[0;31m \u001b[0mshow\u001b[0m\u001b[0;34m(\u001b[0m\u001b[0msuperhelp\u001b[0m\u001b[0;34m(\u001b[0m\u001b[0;34m\"myVar = 'Eggs'\"\u001b[0m\u001b[0;34m)\u001b[0m\u001b[0;34m)\u001b[0m\u001b[0;34m\u001b[0m\u001b[0;34m\u001b[0m\u001b[0m\n\u001b[0m",
      "\u001b[0;32m~/projects/superhelp/superhelp/helper.py\u001b[0m in \u001b[0;36msuperhelp\u001b[0;34m(snippet, file_path, displayer, message_level, in_notebook)\u001b[0m\n\u001b[1;32m    305\u001b[0m     \u001b[0;32mif\u001b[0m \u001b[0mdisplayer_module\u001b[0m\u001b[0;34m:\u001b[0m\u001b[0;34m\u001b[0m\u001b[0;34m\u001b[0m\u001b[0m\n\u001b[1;32m    306\u001b[0m         display_messages(displayer_module, snippet, messages_dets,\n\u001b[0;32m--> 307\u001b[0;31m             message_level=message_level, in_notebook=in_notebook)\n\u001b[0m\u001b[1;32m    308\u001b[0m \u001b[0;34m\u001b[0m\u001b[0m\n\u001b[1;32m    309\u001b[0m \u001b[0;32mdef\u001b[0m \u001b[0mshelp\u001b[0m\u001b[0;34m(\u001b[0m\u001b[0;34m)\u001b[0m\u001b[0;34m:\u001b[0m\u001b[0;34m\u001b[0m\u001b[0;34m\u001b[0m\u001b[0m\n",
      "\u001b[0;31mTypeError\u001b[0m: display_messages() got an unexpected keyword argument 'in_notebook'"
     ]
    }
   ],
   "source": [
    "show(superhelp(\"myVar = 'Eggs'\"))"
   ]
  },
  {
   "cell_type": "code",
   "execution_count": 7,
   "metadata": {},
   "outputs": [],
   "source": [
    "superhelp(\"\"\"\\\n",
    "def sorted(my_list):\n",
    "    sorted_list = my_list.sort()\n",
    "    return sorted_list\n",
    "\"\"\")"
   ]
  },
  {
   "cell_type": "code",
   "execution_count": null,
   "metadata": {},
   "outputs": [],
   "source": []
  }
 ],
 "metadata": {
  "kernelspec": {
   "display_name": "Python 3",
   "language": "python",
   "name": "python3"
  },
  "language_info": {
   "codemirror_mode": {
    "name": "ipython",
    "version": 3
   },
   "file_extension": ".py",
   "mimetype": "text/x-python",
   "name": "python",
   "nbconvert_exporter": "python",
   "pygments_lexer": "ipython3",
   "version": "3.7.5"
  }
 },
 "nbformat": 4,
 "nbformat_minor": 4
}
