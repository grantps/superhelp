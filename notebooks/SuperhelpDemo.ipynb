{
 "cells": [
  {
   "cell_type": "code",
   "execution_count": 12,
   "metadata": {},
   "outputs": [
    {
     "name": "stdout",
     "output_type": "stream",
     "text": [
      "Requirement already satisfied: superhelp in /home/g/projects/superhelp (0.0.5)\n",
      "Requirement already satisfied: astpath==0.9.0 in /home/g/.local/lib/python3.7/site-packages (from superhelp) (0.9.0)\n",
      "Requirement already satisfied: cssselect==1.1.0 in /home/g/.local/lib/python3.7/site-packages (from superhelp) (1.1.0)\n",
      "Requirement already satisfied: lxml==4.5.0 in /home/g/.local/lib/python3.7/site-packages (from superhelp) (4.5.0)\n",
      "Requirement already satisfied: Markdown==3.2.1 in /home/g/.local/lib/python3.7/site-packages (from superhelp) (3.2.1)\n",
      "Requirement already satisfied: mdv==1.7.4 in /home/g/.local/lib/python3.7/site-packages (from superhelp) (1.7.4)\n",
      "Requirement already satisfied: Pygments==2.6.1 in /home/g/.local/lib/python3.7/site-packages (from superhelp) (2.6.1)\n",
      "Requirement already satisfied: PyYAML==5.3.1 in /home/g/.local/lib/python3.7/site-packages (from superhelp) (5.3.1)\n",
      "Requirement already satisfied: tabulate==0.8.7 in /home/g/.local/lib/python3.7/site-packages (from superhelp) (0.8.7)\n",
      "Requirement already satisfied: setuptools>=36 in /home/g/.local/lib/python3.7/site-packages (from Markdown==3.2.1->superhelp) (46.1.3)\n",
      "Note: you may need to restart the kernel to use updated packages.\n"
     ]
    }
   ],
   "source": [
    "%pip install superhelp"
   ]
  },
  {
   "cell_type": "code",
   "execution_count": 9,
   "metadata": {},
   "outputs": [],
   "source": [
    "from superhelp.helper import shelp"
   ]
  },
  {
   "cell_type": "code",
   "execution_count": 10,
   "metadata": {},
   "outputs": [
    {
     "name": "stdout",
     "output_type": "stream",
     "text": [
      "Help on function shelp in module superhelp.helper:\n",
      "\n",
      "shelp()\n",
      "\n"
     ]
    }
   ],
   "source": [
    "help(shelp)"
   ]
  }
 ],
 "metadata": {
  "kernelspec": {
   "display_name": "Python 3",
   "language": "python",
   "name": "python3"
  },
  "language_info": {
   "codemirror_mode": {
    "name": "ipython",
    "version": 3
   },
   "file_extension": ".py",
   "mimetype": "text/x-python",
   "name": "python",
   "nbconvert_exporter": "python",
   "pygments_lexer": "ipython3",
   "version": "3.7.5"
  }
 },
 "nbformat": 4,
 "nbformat_minor": 4
}
