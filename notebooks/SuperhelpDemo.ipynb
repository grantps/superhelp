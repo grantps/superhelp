{
 "cells": [
  {
   "cell_type": "markdown",
   "metadata": {},
   "source": [
    "# SuperHELP - Quick Start\n",
    "\n",
    "If you want to get advice on a line or a small snippet of Python you've come to the right place.\n",
    "\n",
    "## Quick Start\n",
    "\n",
    "### Refresh the notebook first\n",
    "\n",
    "In the notebook menu at the top select Cell > Run All\n",
    "so everything is ready to go\n",
    "\n",
    "### Look at the examples near the end of this notebook\n",
    "\n",
    "Each example has a cell with a snippet inside and a cell below showing feedback on that snippet e.g. advice about variable naming.\n",
    "\n",
    "To get feedback on some Python code, replace the snippet in one of the examples (leaving the %%shelp line at the top alone) and ctrl - Enter to get fresh feedback.\n",
    "\n",
    "You can also add new cells - just remember the %%shelp on the first line.\n",
    "\n",
    "## Using superhelp outside of this notebook\n",
    "\n",
    "The following instructions apply if you pip install superhelp on a machine and use it there.\n",
    "\n",
    "### From system command line\n",
    "\n",
    "If using superhelp from the command line you use shelp as follows:\n",
    "\n",
    "    $ shelp(\"myVar = 'Eggs'\")\n",
    "\n",
    "### Within Python scripts\n",
    "\n",
    "    from superhelp.helper import superhelp as shelp\n",
    "    shelp(snippet=\"myVar = 'Eggs'\")\n"
   ]
  },
  {
   "cell_type": "code",
   "execution_count": 7,
   "metadata": {},
   "outputs": [
    {
     "name": "stdout",
     "output_type": "stream",
     "text": [
      "Requirement already satisfied: superhelp in /home/g/.local/lib/python3.8/site-packages (0.1.11)\n",
      "Requirement already satisfied: mdv==1.7.4 in /home/g/.local/lib/python3.8/site-packages (from superhelp) (1.7.4)\n",
      "Requirement already satisfied: tabulate==0.8.7 in /home/g/.local/lib/python3.8/site-packages (from superhelp) (0.8.7)\n",
      "Requirement already satisfied: cssselect==1.1.0 in /home/g/.local/lib/python3.8/site-packages (from superhelp) (1.1.0)\n",
      "Requirement already satisfied: nose in /usr/lib/python3/dist-packages (from superhelp) (1.3.7)\n",
      "Requirement already satisfied: astpath==0.9.0 in /home/g/.local/lib/python3.8/site-packages (from superhelp) (0.9.0)\n",
      "Requirement already satisfied: Markdown==3.2.1 in /home/g/.local/lib/python3.8/site-packages (from superhelp) (3.2.1)\n",
      "Requirement already satisfied: Pygments==2.6.1 in /home/g/.local/lib/python3.8/site-packages (from superhelp) (2.6.1)\n",
      "Requirement already satisfied: lxml==4.5.0 in /usr/lib/python3/dist-packages (from superhelp) (4.5.0)\n",
      "Requirement already satisfied: PyYAML==5.3.1 in /usr/lib/python3/dist-packages (from superhelp) (5.3.1)\n",
      "Requirement already satisfied: setuptools>=36 in /usr/lib/python3/dist-packages (from Markdown==3.2.1->superhelp) (45.2.0)\n",
      "Note: you may need to restart the kernel to use updated packages.\n",
      "The autoreload extension is already loaded. To reload it, use:\n",
      "  %reload_ext autoreload\n"
     ]
    }
   ],
   "source": [
    "#%%capture\n",
    "%pip install superhelp\n",
    "%load_ext autoreload\n",
    "%autoreload 2\n",
    "## https://ipython.readthedocs.io/en/stable/config/custommagics.html\n",
    "from IPython.core.display import display, HTML\n",
    "from IPython.core.magic import register_line_cell_magic\n",
    "\n",
    "@register_line_cell_magic\n",
    "def shelp(line, cell=None):\n",
    "    from functools import partial\n",
    "    from superhelp.helper import get_advice\n",
    "    get_advice = partial(get_advice,\n",
    "        file_path=None, displayer='html', message_level='Extra', in_notebook=True)\n",
    "    snippet = code = (line or \"\") + (cell or \"\")\n",
    "    html = superhelp(snippet)\n",
    "    display(HTML(html))\n",
    "\n",
    "del shelp  ## In an interactive session, we need to delete these to avoid name conflicts for automagic to work on line magics."
   ]
  },
  {
   "cell_type": "markdown",
   "metadata": {},
   "source": [
    "## Example 1 - Advice on a simple string assignment\n",
    "\n",
    "Enter cell below and Ctrl-Enter to get fresh feedback in the following cell"
   ]
  },
  {
   "cell_type": "code",
   "execution_count": 2,
   "metadata": {},
   "outputs": [
    {
     "ename": "ImportError",
     "evalue": "cannot import name 'get_advice' from 'superhelp.helper' (/home/g/.local/lib/python3.8/site-packages/superhelp/helper.py)",
     "output_type": "error",
     "traceback": [
      "\u001b[0;31m---------------------------------------------------------------------------\u001b[0m",
      "\u001b[0;31mImportError\u001b[0m                               Traceback (most recent call last)",
      "\u001b[0;32m<ipython-input-2-fdbf112ff74c>\u001b[0m in \u001b[0;36m<module>\u001b[0;34m\u001b[0m\n\u001b[0;32m----> 1\u001b[0;31m \u001b[0mget_ipython\u001b[0m\u001b[0;34m(\u001b[0m\u001b[0;34m)\u001b[0m\u001b[0;34m.\u001b[0m\u001b[0mrun_cell_magic\u001b[0m\u001b[0;34m(\u001b[0m\u001b[0;34m'shelp'\u001b[0m\u001b[0;34m,\u001b[0m \u001b[0;34m''\u001b[0m\u001b[0;34m,\u001b[0m \u001b[0;34m\"\\nmyVar = 'Eggs'\\n\"\u001b[0m\u001b[0;34m)\u001b[0m\u001b[0;34m\u001b[0m\u001b[0;34m\u001b[0m\u001b[0m\n\u001b[0m",
      "\u001b[0;32m/usr/lib/python3/dist-packages/IPython/core/interactiveshell.py\u001b[0m in \u001b[0;36mrun_cell_magic\u001b[0;34m(self, magic_name, line, cell)\u001b[0m\n\u001b[1;32m   2360\u001b[0m             \u001b[0;32mwith\u001b[0m \u001b[0mself\u001b[0m\u001b[0;34m.\u001b[0m\u001b[0mbuiltin_trap\u001b[0m\u001b[0;34m:\u001b[0m\u001b[0;34m\u001b[0m\u001b[0;34m\u001b[0m\u001b[0m\n\u001b[1;32m   2361\u001b[0m                 \u001b[0margs\u001b[0m \u001b[0;34m=\u001b[0m \u001b[0;34m(\u001b[0m\u001b[0mmagic_arg_s\u001b[0m\u001b[0;34m,\u001b[0m \u001b[0mcell\u001b[0m\u001b[0;34m)\u001b[0m\u001b[0;34m\u001b[0m\u001b[0;34m\u001b[0m\u001b[0m\n\u001b[0;32m-> 2362\u001b[0;31m                 \u001b[0mresult\u001b[0m \u001b[0;34m=\u001b[0m \u001b[0mfn\u001b[0m\u001b[0;34m(\u001b[0m\u001b[0;34m*\u001b[0m\u001b[0margs\u001b[0m\u001b[0;34m,\u001b[0m \u001b[0;34m**\u001b[0m\u001b[0mkwargs\u001b[0m\u001b[0;34m)\u001b[0m\u001b[0;34m\u001b[0m\u001b[0;34m\u001b[0m\u001b[0m\n\u001b[0m\u001b[1;32m   2363\u001b[0m             \u001b[0;32mreturn\u001b[0m \u001b[0mresult\u001b[0m\u001b[0;34m\u001b[0m\u001b[0;34m\u001b[0m\u001b[0m\n\u001b[1;32m   2364\u001b[0m \u001b[0;34m\u001b[0m\u001b[0m\n",
      "\u001b[0;32m<ipython-input-1-77bdf11045af>\u001b[0m in \u001b[0;36mshelp\u001b[0;34m(line, cell)\u001b[0m\n\u001b[1;32m      9\u001b[0m \u001b[0;32mdef\u001b[0m \u001b[0mshelp\u001b[0m\u001b[0;34m(\u001b[0m\u001b[0mline\u001b[0m\u001b[0;34m,\u001b[0m \u001b[0mcell\u001b[0m\u001b[0;34m=\u001b[0m\u001b[0;32mNone\u001b[0m\u001b[0;34m)\u001b[0m\u001b[0;34m:\u001b[0m\u001b[0;34m\u001b[0m\u001b[0;34m\u001b[0m\u001b[0m\n\u001b[1;32m     10\u001b[0m     \u001b[0;32mfrom\u001b[0m \u001b[0mfunctools\u001b[0m \u001b[0;32mimport\u001b[0m \u001b[0mpartial\u001b[0m\u001b[0;34m\u001b[0m\u001b[0;34m\u001b[0m\u001b[0m\n\u001b[0;32m---> 11\u001b[0;31m     \u001b[0;32mfrom\u001b[0m \u001b[0msuperhelp\u001b[0m\u001b[0;34m.\u001b[0m\u001b[0mhelper\u001b[0m \u001b[0;32mimport\u001b[0m \u001b[0mget_advice\u001b[0m\u001b[0;34m\u001b[0m\u001b[0;34m\u001b[0m\u001b[0m\n\u001b[0m\u001b[1;32m     12\u001b[0m     get_advice = partial(get_advice,\n\u001b[1;32m     13\u001b[0m         file_path=None, displayer='html', message_level='Extra', in_notebook=True)\n",
      "\u001b[0;31mImportError\u001b[0m: cannot import name 'get_advice' from 'superhelp.helper' (/home/g/.local/lib/python3.8/site-packages/superhelp/helper.py)"
     ]
    }
   ],
   "source": [
    "%%shelp\n",
    "\n",
    "myVar = 'Eggs'"
   ]
  },
  {
   "cell_type": "markdown",
   "metadata": {},
   "source": [
    "## Example 2 - Advice on a brief function\n",
    "\n",
    "Enter cell below and Ctrl-Enter to get fresh feedback in the following cell"
   ]
  },
  {
   "cell_type": "code",
   "execution_count": null,
   "metadata": {},
   "outputs": [],
   "source": [
    "%%shelp\n",
    "\n",
    "def sorted(my_list):\n",
    "    # Not really a docstring\n",
    "    sorted_list = my_list.sort()\n",
    "    return sorted_list\n"
   ]
  },
  {
   "cell_type": "code",
   "execution_count": null,
   "metadata": {},
   "outputs": [],
   "source": []
  }
 ],
 "metadata": {
  "kernelspec": {
   "display_name": "Python 3",
   "language": "python",
   "name": "python3"
  },
  "language_info": {
   "codemirror_mode": {
    "name": "ipython",
    "version": 3
   },
   "file_extension": ".py",
   "mimetype": "text/x-python",
   "name": "python",
   "nbconvert_exporter": "python",
   "pygments_lexer": "ipython3",
   "version": "3.8.2"
  }
 },
 "nbformat": 4,
 "nbformat_minor": 4
}
